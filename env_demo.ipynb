{
 "cells": [
  {
   "cell_type": "code",
   "execution_count": 1,
   "metadata": {},
   "outputs": [
    {
     "data": {
      "text/plain": [
       "<module 'poet_distributed.niches.box2d.bipedal_walker_custom' from '/Users/lorenzoleuzzi/Documents/GitHub/lifelong_poet/original/poet_distributed/niches/box2d/bipedal_walker_custom.py'>"
      ]
     },
     "execution_count": 1,
     "metadata": {},
     "output_type": "execute_result"
    }
   ],
   "source": [
    "import poet_distributed.niches.box2d.bipedal_walker_custom as bw\n",
    "from collections import namedtuple\n",
    "\n",
    "Env_config = namedtuple('Env_config', [\n",
    "    'name',\n",
    "    'ground_roughness',\n",
    "    'pit_gap',\n",
    "    'stump_width',  'stump_height', 'stump_float',\n",
    "    'stair_height', 'stair_width', 'stair_steps'\n",
    "])\n",
    "# Refresh imported modules\n",
    "import importlib\n",
    "importlib.reload(bw)\n"
   ]
  },
  {
   "cell_type": "code",
   "execution_count": 7,
   "metadata": {},
   "outputs": [],
   "source": [
    "DEFAULT_ENV = Env_config(\n",
    "        name='default_env',\n",
    "        ground_roughness=0,\n",
    "        pit_gap=[],\n",
    "        stump_width=[],\n",
    "        stump_height=[],\n",
    "        stump_float=[],\n",
    "        stair_height=[],\n",
    "        stair_width=[],\n",
    "        stair_steps=[])\n",
    "\n",
    "env = bw.BipedalWalkerCustom(DEFAULT_ENV, task=\"icefield\")"
   ]
  },
  {
   "cell_type": "code",
   "execution_count": null,
   "metadata": {},
   "outputs": [
    {
     "data": {
      "text/plain": [
       "True"
      ]
     },
     "execution_count": 8,
     "metadata": {},
     "output_type": "execute_result"
    },
    {
     "ename": "",
     "evalue": "",
     "output_type": "error",
     "traceback": [
      "\u001b[1;31mThe Kernel crashed while executing code in the current cell or a previous cell. \n",
      "\u001b[1;31mPlease review the code in the cell(s) to identify a possible cause of the failure. \n",
      "\u001b[1;31mClick <a href='https://aka.ms/vscodeJupyterKernelCrash'>here</a> for more info. \n",
      "\u001b[1;31mView Jupyter <a href='command:jupyter.viewOutput'>log</a> for further details."
     ]
    }
   ],
   "source": [
    "env.reset()\n",
    "env.render()"
   ]
  }
 ],
 "metadata": {
  "kernelspec": {
   "display_name": "poet_env",
   "language": "python",
   "name": "python3"
  },
  "language_info": {
   "codemirror_mode": {
    "name": "ipython",
    "version": 3
   },
   "file_extension": ".py",
   "mimetype": "text/x-python",
   "name": "python",
   "nbconvert_exporter": "python",
   "pygments_lexer": "ipython3",
   "version": "3.10.7"
  }
 },
 "nbformat": 4,
 "nbformat_minor": 2
}
